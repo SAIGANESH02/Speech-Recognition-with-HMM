{
  "cells": [
    {
      "cell_type": "code",
      "source": [
        "from google.colab import drive\n",
        "drive.mount('/content/gdrive')"
      ],
      "metadata": {
        "colab": {
          "base_uri": "https://localhost:8080/"
        },
        "id": "5hzbv2r8pO0Z",
        "outputId": "45feccae-893e-4236-e541-dd3c4eef1644"
      },
      "execution_count": null,
      "outputs": [
        {
          "output_type": "stream",
          "name": "stdout",
          "text": [
            "Mounted at /content/gdrive\n"
          ]
        }
      ]
    },
    {
      "cell_type": "code",
      "source": [
        "!pip install utils"
      ],
      "metadata": {
        "colab": {
          "base_uri": "https://localhost:8080/"
        },
        "id": "27GS4e4bggtw",
        "outputId": "f5dbad9e-f28d-4678-ab9e-4a37d61eac5d"
      },
      "execution_count": null,
      "outputs": [
        {
          "output_type": "stream",
          "name": "stdout",
          "text": [
            "Collecting utils\n",
            "  Downloading utils-1.0.1-py2.py3-none-any.whl (21 kB)\n",
            "Installing collected packages: utils\n",
            "Successfully installed utils-1.0.1\n"
          ]
        }
      ]
    },
    {
      "cell_type": "code",
      "source": [
        "!pip install sklearn"
      ],
      "metadata": {
        "colab": {
          "base_uri": "https://localhost:8080/"
        },
        "id": "MfcJEZkmsG36",
        "outputId": "674efcfc-d8cf-4d73-982d-c3483b7bdb9e"
      },
      "execution_count": null,
      "outputs": [
        {
          "output_type": "stream",
          "name": "stdout",
          "text": [
            "Requirement already satisfied: sklearn in /usr/local/lib/python3.7/dist-packages (0.0)\n",
            "Requirement already satisfied: scikit-learn in /usr/local/lib/python3.7/dist-packages (from sklearn) (1.0.1)\n",
            "Requirement already satisfied: scipy>=1.1.0 in /usr/local/lib/python3.7/dist-packages (from scikit-learn->sklearn) (1.4.1)\n",
            "Requirement already satisfied: numpy>=1.14.6 in /usr/local/lib/python3.7/dist-packages (from scikit-learn->sklearn) (1.19.5)\n",
            "Requirement already satisfied: joblib>=0.11 in /usr/local/lib/python3.7/dist-packages (from scikit-learn->sklearn) (1.1.0)\n",
            "Requirement already satisfied: threadpoolctl>=2.0.0 in /usr/local/lib/python3.7/dist-packages (from scikit-learn->sklearn) (3.0.0)\n"
          ]
        }
      ]
    },
    {
      "cell_type": "code",
      "execution_count": null,
      "metadata": {
        "collapsed": true,
        "id": "C3pbXom1bd4X"
      },
      "outputs": [],
      "source": [
        "import numpy as np\n",
        "import matplotlib.pyplot as plt\n",
        "%matplotlib inline"
      ]
    },
    {
      "cell_type": "code",
      "source": [
        "from urllib.request import urlopen\n",
        "def progress_bar_downloader(url, fname, progress_update_every=5):\n",
        "    #from http://stackoverflow.com/questions/22676/how-do-i-download-a-file-over-http-using-python/22776#22776\n",
        "    u = urlopen(url)\n",
        "    f = open(fname, 'wb')\n",
        "    meta = u.info()\n",
        "    file_size = int(meta.get(\"Content-Length\"))\n",
        "    print(\"Downloading: %s Bytes: %s\" % (fname, file_size))\n",
        "    file_size_dl = 0\n",
        "    block_sz = 8192\n",
        "    p = 0\n",
        "    while True:\n",
        "        buffer = u.read(block_sz)\n",
        "        if not buffer:\n",
        "            break\n",
        "        file_size_dl += len(buffer)\n",
        "        f.write(buffer)\n",
        "        if (file_size_dl * 100. / file_size) > p:\n",
        "            status = r\"%10d  [%3.2f%%]\" % (file_size_dl, file_size_dl * 100. / file_size)\n",
        "            print(status)\n",
        "            p += progress_update_every\n",
        "    f.close()"
      ],
      "metadata": {
        "id": "4WK7L_q-hEv8"
      },
      "execution_count": null,
      "outputs": []
    },
    {
      "cell_type": "code",
      "source": [
        "ls"
      ],
      "metadata": {
        "colab": {
          "base_uri": "https://localhost:8080/"
        },
        "id": "xYUHnszcqfFB",
        "outputId": "3dc2484f-d5e0-4937-8c93-1dac854e5cef"
      },
      "execution_count": null,
      "outputs": [
        {
          "output_type": "stream",
          "name": "stdout",
          "text": [
            "\u001b[0m\u001b[01;34mgdrive\u001b[0m/  \u001b[01;34msample_data\u001b[0m/\n"
          ]
        }
      ]
    },
    {
      "cell_type": "code",
      "source": [
        "cd /content/gdrive/MyDrive/Colab Notebooks/Maths Project/Speech Recognition using HMM"
      ],
      "metadata": {
        "colab": {
          "base_uri": "https://localhost:8080/"
        },
        "id": "w2GiC7waqoxb",
        "outputId": "24e710f5-6e9f-48ac-f377-34abee52796d"
      },
      "execution_count": null,
      "outputs": [
        {
          "output_type": "stream",
          "name": "stdout",
          "text": [
            "/content/gdrive/MyDrive/Colab Notebooks/Maths Project/Speech Recognition using HMM\n"
          ]
        }
      ]
    },
    {
      "cell_type": "code",
      "source": [
        "import os\n",
        "fpaths = []\n",
        "labels = []\n",
        "spoken = []\n",
        "for f in os.listdir('audio'):\n",
        "    for w in os.listdir('audio/' + f):\n",
        "        fpaths.append('audio/' + f + '/' + w)\n",
        "        labels.append(f)\n",
        "        if f not in spoken:\n",
        "            spoken.append(f)\n",
        "print('Words spoken:', spoken)"
      ],
      "metadata": {
        "colab": {
          "base_uri": "https://localhost:8080/"
        },
        "id": "jv-oPWTekzAj",
        "outputId": "2a88cb03-78db-4332-a3b5-7f76d6dcadac"
      },
      "execution_count": null,
      "outputs": [
        {
          "output_type": "stream",
          "name": "stdout",
          "text": [
            "Words spoken: ['banana', 'pineapple', 'kiwi', 'apple', 'orange', 'lime', 'peach']\n"
          ]
        }
      ]
    },
    {
      "cell_type": "code",
      "source": [
        "os.listdir()"
      ],
      "metadata": {
        "colab": {
          "base_uri": "https://localhost:8080/"
        },
        "id": "PSQ0UBi2p7z-",
        "outputId": "08d7471d-72cf-49de-e659-f87ce8399143"
      },
      "execution_count": null,
      "outputs": [
        {
          "output_type": "execute_result",
          "data": {
            "text/plain": [
              "['audio',\n",
              " 'PyAudio-0.2.11-cp39-cp39-win_amd64.whl',\n",
              " 'Speech_Recognition_with_HMM.ipynb']"
            ]
          },
          "metadata": {},
          "execution_count": 10
        }
      ]
    },
    {
      "cell_type": "code",
      "execution_count": null,
      "metadata": {
        "id": "7n2O0mF-bd4Z",
        "outputId": "730f1e97-ff5f-49a8-d5f6-15a016c4eb20",
        "colab": {
          "base_uri": "https://localhost:8080/"
        }
      },
      "outputs": [
        {
          "output_type": "stream",
          "name": "stdout",
          "text": [
            "Words spoken: ['banana', 'pineapple', 'kiwi', 'apple', 'orange', 'lime', 'peach']\n"
          ]
        }
      ],
      "source": [
        "fpaths = []\n",
        "labels = []\n",
        "spoken = []\n",
        "for f in os.listdir('audio'):\n",
        "    for w in os.listdir('audio/' + f):\n",
        "        fpaths.append('audio/' + f + '/' + w)\n",
        "        labels.append(f)\n",
        "        if f not in spoken:\n",
        "            spoken.append(f)\n",
        "print('Words spoken:', spoken)"
      ]
    },
    {
      "cell_type": "code",
      "execution_count": null,
      "metadata": {
        "id": "f6LIIevKbd4a",
        "colab": {
          "base_uri": "https://localhost:8080/"
        },
        "outputId": "7008fc00-eee6-463e-f288-9661c4db8288"
      },
      "outputs": [
        {
          "output_type": "stream",
          "name": "stdout",
          "text": [
            "Number of files total: 105\n",
            "Labels and label indices [2. 2. 2. 2. 2. 2. 2. 2. 2. 2. 2. 2. 2. 2. 2. 0. 0. 0. 0. 0. 0. 0. 0. 0.\n",
            " 0. 0. 0. 0. 0. 0. 1. 1. 1. 1. 1. 1. 1. 1. 1. 1. 1. 1. 1. 1. 1. 4. 4. 4.\n",
            " 4. 4. 4. 4. 4. 4. 4. 4. 4. 4. 4. 4. 5. 5. 5. 5. 5. 5. 5. 5. 5. 5. 5. 5.\n",
            " 5. 5. 5. 3. 3. 3. 3. 3. 3. 3. 3. 3. 3. 3. 3. 3. 3. 3. 6. 6. 6. 6. 6. 6.\n",
            " 6. 6. 6. 6. 6. 6. 6. 6. 6.]\n"
          ]
        }
      ],
      "source": [
        "#Files can be heard in Linux using the following commands from the command line\n",
        "#cat kiwi07.wav | aplay -f S16_LE -t wav -r 8000\n",
        "#Files are signed 16 bit raw, sample rate 8000\n",
        "from scipy.io import wavfile\n",
        "\n",
        "data = np.zeros((len(fpaths), 32000))\n",
        "maxsize = -1\n",
        "for n,file in enumerate(fpaths):\n",
        "    _, d = wavfile.read(file)\n",
        "    data[n, :d.shape[0]] = d\n",
        "    if d.shape[0] > maxsize:\n",
        "        maxsize = d.shape[0]\n",
        "data = data[:, :maxsize]\n",
        "\n",
        "#Each sample file is one row in data, and has one entry in labels\n",
        "print('Number of files total:', data.shape[0])\n",
        "all_labels = np.zeros(data.shape[0])\n",
        "for n, l in enumerate(set(labels)):\n",
        "    all_labels[np.array([i for i, _ in enumerate(labels) if _ == l])] = n\n",
        "    \n",
        "print('Labels and label indices', all_labels)"
      ]
    },
    {
      "cell_type": "code",
      "execution_count": null,
      "metadata": {
        "id": "AAVbgzMAbd4c"
      },
      "outputs": [],
      "source": [
        "import scipy\n",
        "\n",
        "def stft(x, fftsize=64, overlap_pct=.5):   \n",
        "    #Modified from http://stackoverflow.com/questions/2459295/stft-and-istft-in-python\n",
        "    hop = int(fftsize * (1 - overlap_pct))\n",
        "    w = scipy.hanning(fftsize + 1)[:-1]    \n",
        "    raw = np.array([np.fft.rfft(w * x[i:i + fftsize]) for i in range(0, len(x) - fftsize, hop)])\n",
        "    return raw[:, :(fftsize // 2)]"
      ]
    },
    {
      "cell_type": "code",
      "execution_count": null,
      "metadata": {
        "id": "77Sj9ILNbd4d",
        "colab": {
          "base_uri": "https://localhost:8080/",
          "height": 642
        },
        "outputId": "239c60a3-46e1-49b9-fcea-4aefb5419d76"
      },
      "outputs": [
        {
          "output_type": "stream",
          "name": "stdout",
          "text": [
            "(216, 32)\n"
          ]
        },
        {
          "output_type": "stream",
          "name": "stderr",
          "text": [
            "/usr/local/lib/python3.7/dist-packages/ipykernel_launcher.py:6: DeprecationWarning: scipy.hanning is deprecated and will be removed in SciPy 2.0.0, use numpy.hanning instead\n",
            "  \n"
          ]
        },
        {
          "output_type": "execute_result",
          "data": {
            "text/plain": [
              "Text(0.5, 1.0, 'PSD of banana example')"
            ]
          },
          "metadata": {},
          "execution_count": 14
        },
        {
          "output_type": "display_data",
          "data": {
            "image/png": "[encoded data removed]",
            "text/plain": [
              "<Figure size 432x288 with 1 Axes>"
            ]
          },
          "metadata": {
            "needs_background": "light"
          }
        },
        {
          "output_type": "display_data",
          "data": {
            "image/png": "[encoded data removed]",
            "text/plain": [
              "<Figure size 432x288 with 1 Axes>"
            ]
          },
          "metadata": {
            "needs_background": "light"
          }
        }
      ],
      "source": [
        "import matplotlib.pyplot as plt\n",
        "plt.plot(data[0, :], color='steelblue')\n",
        "plt.title('Timeseries example for %s'%labels[0])\n",
        "plt.xlim(0, 3500)\n",
        "plt.xlabel('Time (samples)')\n",
        "plt.ylabel('Amplitude (signed 16 bit)')\n",
        "plt.figure()\n",
        "\n",
        "# + 1 to avoid log of 0\n",
        "log_freq = 20 * np.log(np.abs(stft(data[0, :])) + 1)\n",
        "print(log_freq.shape)\n",
        "plt.imshow(log_freq, cmap='gray', interpolation=None)\n",
        "plt.xlabel('Freq (bin)')\n",
        "plt.ylabel('Time (overlapped frames)')\n",
        "plt.ylim(log_freq.shape[1])\n",
        "plt.title('PSD of %s example'%labels[0])"
      ]
    },
    {
      "cell_type": "code",
      "execution_count": null,
      "metadata": {
        "id": "bMEwlKd1bd4e"
      },
      "outputs": [],
      "source": [
        "from numpy.lib.stride_tricks import as_strided\n",
        "\n",
        "#Peak detection using the technique described here: http://kkjkok.blogspot.com/2013/12/dsp-snippets_9.html \n",
        "def peakfind(x, n_peaks, l_size=3, r_size=3, c_size=3, f=np.mean):\n",
        "    win_size = l_size + r_size + c_size\n",
        "    shape = x.shape[:-1] + (x.shape[-1] - win_size + 1, win_size)\n",
        "    strides = x.strides + (x.strides[-1],)\n",
        "    xs = as_strided(x, shape=shape, strides=strides)\n",
        "    def is_peak(x):\n",
        "        centered = (np.argmax(x) == l_size + int(c_size/2))\n",
        "        l = x[:l_size]\n",
        "        c = x[l_size:l_size + c_size]\n",
        "        r = x[-r_size:]\n",
        "        passes = np.max(c) > np.max([f(l), f(r)])\n",
        "        if centered and passes:\n",
        "            return np.max(c)\n",
        "        else:\n",
        "            return -1\n",
        "    r = np.apply_along_axis(is_peak, 1, xs)\n",
        "    top = np.argsort(r, None)[::-1]\n",
        "    heights = r[top[:n_peaks]]\n",
        "    #Add l_size and half - 1 of center size to get to actual peak location\n",
        "    top[top > -1] = top[top > -1] + l_size + int(c_size / 2.)\n",
        "    return heights, top[:n_peaks]"
      ]
    },
    {
      "cell_type": "code",
      "execution_count": null,
      "metadata": {
        "id": "QWI7Jel4bd4f",
        "colab": {
          "base_uri": "https://localhost:8080/",
          "height": 347
        },
        "outputId": "6259e6b9-85ac-46a2-ba44-f3950ca08a2b"
      },
      "outputs": [
        {
          "output_type": "stream",
          "name": "stderr",
          "text": [
            "/usr/local/lib/python3.7/dist-packages/ipykernel_launcher.py:6: DeprecationWarning: scipy.hanning is deprecated and will be removed in SciPy 2.0.0, use numpy.hanning instead\n",
            "  \n"
          ]
        },
        {
          "output_type": "execute_result",
          "data": {
            "text/plain": [
              "Text(0, 0.5, 'Amplitude')"
            ]
          },
          "metadata": {},
          "execution_count": 16
        },
        {
          "output_type": "display_data",
          "data": {
            "image/png": "[encoded data removed]",
            "text/plain": [
              "<Figure size 432x288 with 1 Axes>"
            ]
          },
          "metadata": {
            "needs_background": "light"
          }
        }
      ],
      "source": [
        "plot_data = np.abs(stft(data[20, :]))[15, :]\n",
        "values, locs = peakfind(plot_data, n_peaks=6)\n",
        "fp = locs[values > -1]\n",
        "fv = values[values > -1]\n",
        "plt.plot(plot_data, color='steelblue')\n",
        "plt.plot(fp, fv, 'x', color='darkred')\n",
        "plt.title('Peak location example')\n",
        "plt.xlabel('Frequency (bins)')\n",
        "plt.ylabel('Amplitude')"
      ]
    },
    {
      "cell_type": "code",
      "execution_count": null,
      "metadata": {
        "id": "vu3402jubd4g",
        "colab": {
          "base_uri": "https://localhost:8080/"
        },
        "outputId": "e80081e8-297e-47b2-992a-a84e9797a0f8"
      },
      "outputs": [
        {
          "output_type": "stream",
          "name": "stderr",
          "text": [
            "/usr/local/lib/python3.7/dist-packages/ipykernel_launcher.py:6: DeprecationWarning: scipy.hanning is deprecated and will be removed in SciPy 2.0.0, use numpy.hanning instead\n",
            "  \n"
          ]
        },
        {
          "output_type": "stream",
          "name": "stdout",
          "text": [
            "Processed obs 0\n",
            "Processed obs 10\n",
            "Processed obs 20\n",
            "Processed obs 30\n",
            "Processed obs 40\n",
            "Processed obs 50\n",
            "Processed obs 60\n",
            "Processed obs 70\n",
            "Processed obs 80\n",
            "Processed obs 90\n",
            "Processed obs 100\n"
          ]
        }
      ],
      "source": [
        "#This processing (top freq peaks) only works for single speaker case... need better features for multispeaker!\n",
        "#MFCC (or deep NN/automatic feature extraction) could be interesting\n",
        "all_obs = []\n",
        "for i in range(data.shape[0]):\n",
        "    d = np.abs(stft(data[i, :]))\n",
        "    n_dim = 6\n",
        "    obs = np.zeros((n_dim, d.shape[0]))\n",
        "    for r in range(d.shape[0]):\n",
        "        _, t = peakfind(d[r, :], n_peaks=n_dim)\n",
        "        obs[:, r] = t.copy()\n",
        "    if i % 10 == 0:\n",
        "        print(\"Processed obs %s\" % i)\n",
        "    all_obs.append(obs)\n",
        "    \n",
        "all_obs = np.atleast_3d(all_obs)"
      ]
    },
    {
      "cell_type": "code",
      "execution_count": null,
      "metadata": {
        "id": "X5fP2DVWbd4g",
        "colab": {
          "base_uri": "https://localhost:8080/"
        },
        "outputId": "86761b71-3f06-4140-c3c2-642f098ecc46"
      },
      "outputs": [
        {
          "output_type": "stream",
          "name": "stdout",
          "text": [
            "Likelihoods for test set 1\n",
            "M1: 221.38828575112734\n",
            "M2: 165.27280230776492\n",
            "Prediction for test set 1\n",
            "Model 1\n",
            "\n",
            "Likelihoods for test set 2\n",
            "M1: 33.19459421485197\n",
            "M2: 59.15274753052995\n",
            "Prediction for test set 2\n",
            "Model 2\n"
          ]
        }
      ],
      "source": [
        "import scipy.stats as st\n",
        "import numpy as np\n",
        "\n",
        "class gmmhmm:\n",
        "    #This class converted with modifications from https://code.google.com/p/hmm-speech-recognition/source/browse/Word.m\n",
        "    def __init__(self, n_states):\n",
        "        self.n_states = n_states\n",
        "        self.random_state = np.random.RandomState(0)\n",
        "        \n",
        "        #Normalize random initial state\n",
        "        self.prior = self._normalize(self.random_state.rand(self.n_states, 1))\n",
        "        self.A = self._stochasticize(self.random_state.rand(self.n_states, self.n_states))\n",
        "        \n",
        "        self.mu = None\n",
        "        self.covs = None\n",
        "        self.n_dims = None\n",
        "           \n",
        "    def _forward(self, B):\n",
        "        log_likelihood = 0.\n",
        "        T = B.shape[1]\n",
        "        alpha = np.zeros(B.shape)\n",
        "        for t in range(T):\n",
        "            if t == 0:\n",
        "                alpha[:, t] = B[:, t] * self.prior.ravel()\n",
        "            else:\n",
        "                alpha[:, t] = B[:, t] * np.dot(self.A.T, alpha[:, t - 1])\n",
        "         \n",
        "            alpha_sum = np.sum(alpha[:, t])\n",
        "            alpha[:, t] /= alpha_sum\n",
        "            log_likelihood = log_likelihood + np.log(alpha_sum)\n",
        "        return log_likelihood, alpha\n",
        "    \n",
        "    def _backward(self, B):\n",
        "        T = B.shape[1]\n",
        "        beta = np.zeros(B.shape);\n",
        "           \n",
        "        beta[:, -1] = np.ones(B.shape[0])\n",
        "            \n",
        "        for t in range(T - 1)[::-1]:\n",
        "            beta[:, t] = np.dot(self.A, (B[:, t + 1] * beta[:, t + 1]))\n",
        "            beta[:, t] /= np.sum(beta[:, t])\n",
        "        return beta\n",
        "    \n",
        "    def _state_likelihood(self, obs):\n",
        "        obs = np.atleast_2d(obs)\n",
        "        B = np.zeros((self.n_states, obs.shape[1]))\n",
        "        for s in range(self.n_states):\n",
        "            #Needs scipy 0.14\n",
        "            np.random.seed(self.random_state.randint(1))\n",
        "            B[s, :] = st.multivariate_normal.pdf(\n",
        "                obs.T, mean=self.mu[:, s].T, cov=self.covs[:, :, s].T)\n",
        "            #This function can (and will!) return values >> 1\n",
        "            #See the discussion here for the equivalent matlab function\n",
        "            #https://groups.google.com/forum/#!topic/comp.soft-sys.matlab/YksWK0T74Ak\n",
        "            #Key line: \"Probabilities have to be less than 1,\n",
        "            #Densities can be anything, even infinite (at individual points).\"\n",
        "            #This is evaluating the density at individual points...\n",
        "        return B\n",
        "    \n",
        "    def _normalize(self, x):\n",
        "        return (x + (x == 0)) / np.sum(x)\n",
        "    \n",
        "    def _stochasticize(self, x):\n",
        "        return (x + (x == 0)) / np.sum(x, axis=1)\n",
        "    \n",
        "    def _em_init(self, obs):\n",
        "        #Using this _em_init function allows for less required constructor args\n",
        "        if self.n_dims is None:\n",
        "            self.n_dims = obs.shape[0]\n",
        "        if self.mu is None:\n",
        "            subset = self.random_state.choice(np.arange(self.n_dims), size=self.n_states, replace=False)\n",
        "            self.mu = obs[:, subset]\n",
        "        if self.covs is None:\n",
        "            self.covs = np.zeros((self.n_dims, self.n_dims, self.n_states))\n",
        "            self.covs += np.diag(np.diag(np.cov(obs)))[:, :, None]\n",
        "        return self\n",
        "    \n",
        "    def _em_step(self, obs): \n",
        "        obs = np.atleast_2d(obs)\n",
        "        B = self._state_likelihood(obs)\n",
        "        T = obs.shape[1]\n",
        "        \n",
        "        log_likelihood, alpha = self._forward(B)\n",
        "        beta = self._backward(B)\n",
        "        \n",
        "        xi_sum = np.zeros((self.n_states, self.n_states))\n",
        "        gamma = np.zeros((self.n_states, T))\n",
        "        \n",
        "        for t in range(T - 1):\n",
        "            partial_sum = self.A * np.dot(alpha[:, t], (beta[:, t] * B[:, t + 1]).T)\n",
        "            xi_sum += self._normalize(partial_sum)\n",
        "            partial_g = alpha[:, t] * beta[:, t]\n",
        "            gamma[:, t] = self._normalize(partial_g)\n",
        "              \n",
        "        partial_g = alpha[:, -1] * beta[:, -1]\n",
        "        gamma[:, -1] = self._normalize(partial_g)\n",
        "        \n",
        "        expected_prior = gamma[:, 0]\n",
        "        expected_A = self._stochasticize(xi_sum)\n",
        "        \n",
        "        expected_mu = np.zeros((self.n_dims, self.n_states))\n",
        "        expected_covs = np.zeros((self.n_dims, self.n_dims, self.n_states))\n",
        "        \n",
        "        gamma_state_sum = np.sum(gamma, axis=1)\n",
        "        #Set zeros to 1 before dividing\n",
        "        gamma_state_sum = gamma_state_sum + (gamma_state_sum == 0)\n",
        "        \n",
        "        for s in range(self.n_states):\n",
        "            gamma_obs = obs * gamma[s, :]\n",
        "            expected_mu[:, s] = np.sum(gamma_obs, axis=1) / gamma_state_sum[s]\n",
        "            partial_covs = np.dot(gamma_obs, obs.T) / gamma_state_sum[s] - np.dot(expected_mu[:, s], expected_mu[:, s].T)\n",
        "            #Symmetrize\n",
        "            partial_covs = np.triu(partial_covs) + np.triu(partial_covs).T - np.diag(partial_covs)\n",
        "        \n",
        "        #Ensure positive semidefinite by adding diagonal loading\n",
        "        expected_covs += .01 * np.eye(self.n_dims)[:, :, None]\n",
        "        \n",
        "        self.prior = expected_prior\n",
        "        self.mu = expected_mu\n",
        "        self.covs = expected_covs\n",
        "        self.A = expected_A\n",
        "        return log_likelihood\n",
        "    \n",
        "    def fit(self, obs, n_iter=15):\n",
        "        #Support for 2D and 3D arrays\n",
        "        #2D should be n_features, n_dims\n",
        "        #3D should be n_examples, n_features, n_dims\n",
        "        #For example, with 6 features per speech segment, 105 different words\n",
        "        #this array should be size\n",
        "        #(105, 6, X) where X is the number of frames with features extracted\n",
        "        #For a single example file, the array should be size (6, X)\n",
        "        if len(obs.shape) == 2:\n",
        "            for i in range(n_iter):\n",
        "                self._em_init(obs)\n",
        "                log_likelihood = self._em_step(obs)\n",
        "        elif len(obs.shape) == 3:\n",
        "            count = obs.shape[0]\n",
        "            for n in range(count):\n",
        "                for i in range(n_iter):\n",
        "                    self._em_init(obs[n, :, :])\n",
        "                    log_likelihood = self._em_step(obs[n, :, :])\n",
        "        return self\n",
        "    \n",
        "    def transform(self, obs):\n",
        "        #Support for 2D and 3D arrays\n",
        "        #2D should be n_features, n_dims\n",
        "        #3D should be n_examples, n_features, n_dims\n",
        "        #For example, with 6 features per speech segment, 105 different words\n",
        "        #this array should be size\n",
        "        #(105, 6, X) where X is the number of frames with features extracted\n",
        "        #For a single example file, the array should be size (6, X)\n",
        "        if len(obs.shape) == 2:\n",
        "            B = self._state_likelihood(obs)\n",
        "            log_likelihood, _ = self._forward(B)\n",
        "            return log_likelihood\n",
        "        elif len(obs.shape) == 3:\n",
        "            count = obs.shape[0]\n",
        "            out = np.zeros((count,))\n",
        "            for n in range(count):\n",
        "                B = self._state_likelihood(obs[n, :, :])\n",
        "                log_likelihood, _ = self._forward(B)\n",
        "                out[n] = log_likelihood\n",
        "            return out\n",
        "\n",
        "if __name__ == \"__main__\":\n",
        "    rstate = np.random.RandomState(0)\n",
        "    t1 = np.ones((4, 40)) + .001 * rstate.rand(4, 40)\n",
        "    t1 /= t1.sum(axis=0)\n",
        "    t2 = rstate.rand(*t1.shape)\n",
        "    t2 /= t2.sum(axis=0)\n",
        "    \n",
        "    m1 = gmmhmm(2)\n",
        "    m1.fit(t1)\n",
        "    m2 = gmmhmm(2)\n",
        "    m2.fit(t2)\n",
        "    \n",
        "    m1t1 = m1.transform(t1)\n",
        "    m2t1 = m2.transform(t1)\n",
        "    print(\"Likelihoods for test set 1\")\n",
        "    print(\"M1:\", m1t1)\n",
        "    print(\"M2:\", m2t1)\n",
        "    print(\"Prediction for test set 1\")\n",
        "    print(\"Model\", np.argmax([m1t1, m2t1]) + 1)\n",
        "    print()\n",
        "    \n",
        "    m1t2 = m1.transform(t2)\n",
        "    m2t2 = m2.transform(t2)\n",
        "    print(\"Likelihoods for test set 2\")\n",
        "    print(\"M1:\", m1t2)\n",
        "    print(\"M2:\", m2t2)\n",
        "    print(\"Prediction for test set 2\")\n",
        "    print(\"Model\", np.argmax([m1t2, m2t2]) + 1)"
      ]
    },
    {
      "cell_type": "code",
      "execution_count": null,
      "metadata": {
        "id": "63LElyThbd4i",
        "colab": {
          "base_uri": "https://localhost:8080/"
        },
        "outputId": "b39c2131-dcf1-46c0-c23a-98f90fffe267"
      },
      "outputs": [
        {
          "output_type": "stream",
          "name": "stdout",
          "text": [
            "Size of training matrix: (94, 6, 216)\n",
            "Size of testing matrix: (11, 6, 216)\n"
          ]
        }
      ],
      "source": [
        "from sklearn.model_selection import StratifiedShuffleSplit\n",
        "# sss = StratifiedShuffleSplit(all_labels, test_size=0.1, random_state=0)\n",
        "sss = StratifiedShuffleSplit(n_splits=5, test_size=0.1, random_state=0)\n",
        "\n",
        "for n,i in enumerate(all_obs):\n",
        "    all_obs[n] /= all_obs[n].sum(axis=0)\n",
        "\n",
        "for train_index, test_index in sss.split(all_obs, all_labels):\n",
        "    X_train, X_test = all_obs[train_index, ...], all_obs[test_index, ...]\n",
        "    y_train, y_test = all_labels[train_index], all_labels[test_index]\n",
        "print('Size of training matrix:', X_train.shape)\n",
        "print('Size of testing matrix:', X_test.shape)"
      ]
    },
    {
      "cell_type": "code",
      "execution_count": null,
      "metadata": {
        "id": "I1nWblyfbd4i",
        "colab": {
          "base_uri": "https://localhost:8080/"
        },
        "outputId": "fe5ebf9f-06ec-4a29-f9a6-1da61427feee"
      },
      "outputs": [
        {
          "output_type": "stream",
          "name": "stdout",
          "text": [
            "Test accuracy: 81.82 percent\n"
          ]
        }
      ],
      "source": [
        "ys = set(all_labels)\n",
        "ms = [gmmhmm(6) for y in ys]\n",
        "_ = [m.fit(X_train[y_train == y, :, :]) for m, y in zip(ms, ys)]\n",
        "ps = [m.transform(X_test) for m in ms]\n",
        "res = np.vstack(ps)\n",
        "predicted_labels = np.argmax(res, axis=0)\n",
        "missed = (predicted_labels != y_test)\n",
        "print('Test accuracy: %.2f percent' % (100 * (1 - np.mean(missed))))"
      ]
    },
    {
      "cell_type": "code",
      "execution_count": null,
      "metadata": {
        "id": "DRJAlY9ebd4j",
        "colab": {
          "base_uri": "https://localhost:8080/",
          "height": 312
        },
        "outputId": "9dfb10ef-7d17-4c89-cc30-d1c6c7f4e484"
      },
      "outputs": [
        {
          "output_type": "execute_result",
          "data": {
            "text/plain": [
              "Text(0.5, 0, 'Predicted label')"
            ]
          },
          "metadata": {},
          "execution_count": 21
        },
        {
          "output_type": "display_data",
          "data": {
            "image/png": "[encoded data removed]",
            "text/plain": [
              "<Figure size 288x288 with 1 Axes>"
            ]
          },
          "metadata": {
            "needs_background": "light"
          }
        }
      ],
      "source": [
        "from sklearn.metrics import confusion_matrix\n",
        "cm = confusion_matrix(y_test, predicted_labels)\n",
        "plt.matshow(cm, cmap='gray')\n",
        "ax = plt.gca()\n",
        "_ = ax.set_xticklabels([\" \"] + [l[:2] for l in spoken])\n",
        "_ = ax.set_yticklabels([\" \"] + spoken)\n",
        "plt.title('Confusion matrix, single speaker')\n",
        "plt.ylabel('True label')\n",
        "plt.xlabel('Predicted label')"
      ]
    },
    {
      "cell_type": "code",
      "source": [
        ""
      ],
      "metadata": {
        "id": "Rw3dssq0jacp"
      },
      "execution_count": null,
      "outputs": []
    }
  ],
  "metadata": {
    "kernelspec": {
      "display_name": "Python 3",
      "name": "python3"
    },
    "language_info": {
      "name": "python"
    },
    "colab": {
      "name": "Speech_Recognition_with_HMM.ipynb",
      "provenance": []
    }
  },
  "nbformat": 4,
  "nbformat_minor": 0
}